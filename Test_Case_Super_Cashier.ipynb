{
  "cells": [
    {
      "cell_type": "markdown",
      "source": [
        "Indri Windriasari - Sekolah Data Pacmann Batch 13"
      ],
      "metadata": {
        "id": "rBe37Ww-0X86"
      }
    },
    {
      "cell_type": "markdown",
      "source": [
        "### Import Module atau Library"
      ],
      "metadata": {
        "id": "bC-Sm6vEsqkG"
      }
    },
    {
      "cell_type": "code",
      "execution_count": 5,
      "metadata": {
        "id": "C4SGGbxhQ1uV"
      },
      "outputs": [],
      "source": [
        "from tabulate import tabulate\n",
        "import supercashier as sc"
      ]
    },
    {
      "cell_type": "markdown",
      "source": [
        "### Membuat objek dari class Transaction dan menampilkan tampilan awal tabel pesanan"
      ],
      "metadata": {
        "id": "hmlBoeGJs1aq"
      }
    },
    {
      "cell_type": "code",
      "execution_count": 6,
      "metadata": {
        "id": "srWy1rVeQlig"
      },
      "outputs": [],
      "source": [
        "trnsct_123 = sc.Transaction()"
      ]
    },
    {
      "cell_type": "code",
      "execution_count": 7,
      "metadata": {
        "colab": {
          "base_uri": "https://localhost:8080/"
        },
        "id": "fPrjBNw5QWdd",
        "outputId": "3f3d1478-32cc-4ed3-ad38-7cf9601556a2"
      },
      "outputs": [
        {
          "output_type": "stream",
          "name": "stdout",
          "text": [
            "╒═════╤═══════════╤═════════════╤════════════╤═════════════╕\n",
            "│ No. │ Nama Item │ Jumlah Item │ Harga/Item │ Total Harga │\n",
            "╘═════╧═══════════╧═════════════╧════════════╧═════════════╛\n"
          ]
        }
      ],
      "source": [
        "trnsct_123.show_orders()"
      ]
    },
    {
      "cell_type": "markdown",
      "source": [
        "### TEST CASE 1 - Menambahkan item baru menggunakan method add_item()"
      ],
      "metadata": {
        "id": "-OMFTs8ysOeA"
      }
    },
    {
      "cell_type": "code",
      "execution_count": 8,
      "metadata": {
        "id": "e4fsERzERAkg",
        "colab": {
          "base_uri": "https://localhost:8080/"
        },
        "outputId": "909d23f2-4423-410a-a103-3d6a792c60ba"
      },
      "outputs": [
        {
          "output_type": "stream",
          "name": "stdout",
          "text": [
            "Anda berhasil menambahkan item Ayam Goreng, 2 pcs dengan harga per item 20000\n",
            "Anda berhasil menambahkan item Pasta Gigi, 3 pcs dengan harga per item 15000\n",
            "Anda berhasil menambahkan item Markisa, 2 pcs dengan harga per item 10000\n",
            "Anda berhasil menambahkan item Bolu, 6 pcs dengan harga per item 20000\n",
            "Anda berhasil menambahkan item Jus Naga, 1 pcs dengan harga per item 20000\n"
          ]
        }
      ],
      "source": [
        "trnsct_123.add_item(\"Ayam Goreng\", 2, 20000)\n",
        "trnsct_123.add_item(\"Pasta Gigi\", 3, 15000)\n",
        "trnsct_123.add_item(\"Markisa\", 2, 10000)\n",
        "trnsct_123.add_item(\"Bolu\", 6, 20000)\n",
        "trnsct_123.add_item(\"Jus Naga\", 1, 20000)"
      ]
    },
    {
      "cell_type": "code",
      "execution_count": 9,
      "metadata": {
        "colab": {
          "base_uri": "https://localhost:8080/"
        },
        "id": "dsYNvZmCRJLt",
        "outputId": "afd3bfca-4c8f-49a6-ff79-a554d834c63f"
      },
      "outputs": [
        {
          "output_type": "stream",
          "name": "stdout",
          "text": [
            "╒═════╤═════════════╤═════════════╤════════════╤═════════════╕\n",
            "│ No. │ Nama Item   │ Jumlah Item │ Harga/Item │ Total Harga │\n",
            "├─────┼─────────────┼─────────────┼────────────┼─────────────┤\n",
            "│ 1   │ Ayam Goreng │ 2           │ 20000      │ 40000       │\n",
            "├─────┼─────────────┼─────────────┼────────────┼─────────────┤\n",
            "│ 2   │ Pasta Gigi  │ 3           │ 15000      │ 45000       │\n",
            "├─────┼─────────────┼─────────────┼────────────┼─────────────┤\n",
            "│ 3   │ Markisa     │ 2           │ 10000      │ 20000       │\n",
            "├─────┼─────────────┼─────────────┼────────────┼─────────────┤\n",
            "│ 4   │ Bolu        │ 6           │ 20000      │ 120000      │\n",
            "├─────┼─────────────┼─────────────┼────────────┼─────────────┤\n",
            "│ 5   │ Jus Naga    │ 1           │ 20000      │ 20000       │\n",
            "╘═════╧═════════════╧═════════════╧════════════╧═════════════╛\n"
          ]
        }
      ],
      "source": [
        "trnsct_123.show_orders()"
      ]
    },
    {
      "cell_type": "markdown",
      "source": [
        "### TEST CASE 2 - Customer salah input pesanan\n",
        "\n",
        "Jika hal ini terjadi, customer dapat melakukan update pesanan tanpa menghapus item"
      ],
      "metadata": {
        "id": "hi1npcS8tdlU"
      }
    },
    {
      "cell_type": "code",
      "execution_count": 10,
      "metadata": {
        "colab": {
          "base_uri": "https://localhost:8080/"
        },
        "id": "a_dWYMjnRjRd",
        "outputId": "99538588-ed35-4d18-c1e4-8f3231ab0f44"
      },
      "outputs": [
        {
          "output_type": "stream",
          "name": "stdout",
          "text": [
            "╒═════╤═════════════╤═════════════╤════════════╤═════════════╕\n",
            "│ No. │ Nama Item   │ Jumlah Item │ Harga/Item │ Total Harga │\n",
            "├─────┼─────────────┼─────────────┼────────────┼─────────────┤\n",
            "│ 1   │ Ayam Goreng │ 2           │ 20000      │ 40000       │\n",
            "├─────┼─────────────┼─────────────┼────────────┼─────────────┤\n",
            "│ 2   │ Pasta Gigi  │ 3           │ 15000      │ 45000       │\n",
            "├─────┼─────────────┼─────────────┼────────────┼─────────────┤\n",
            "│ 3   │ Markisa     │ 2           │ 10000      │ 20000       │\n",
            "├─────┼─────────────┼─────────────┼────────────┼─────────────┤\n",
            "│ 4   │ Jus Naga    │ 1           │ 20000      │ 20000       │\n",
            "├─────┼─────────────┼─────────────┼────────────┼─────────────┤\n",
            "│ 5   │ Kue         │ 6           │ 20000      │ 120000      │\n",
            "╘═════╧═════════════╧═════════════╧════════════╧═════════════╛\n",
            "Anda telah mengubah item Bolu menjadi Kue\n",
            "╒═════╤═════════════╤═════════════╤════════════╤═════════════╕\n",
            "│ No. │ Nama Item   │ Jumlah Item │ Harga/Item │ Total Harga │\n",
            "├─────┼─────────────┼─────────────┼────────────┼─────────────┤\n",
            "│ 1   │ Ayam Goreng │ 2           │ 20000      │ 40000       │\n",
            "├─────┼─────────────┼─────────────┼────────────┼─────────────┤\n",
            "│ 2   │ Pasta Gigi  │ 3           │ 15000      │ 45000       │\n",
            "├─────┼─────────────┼─────────────┼────────────┼─────────────┤\n",
            "│ 3   │ Markisa     │ 5           │ 10000      │ 50000       │\n",
            "├─────┼─────────────┼─────────────┼────────────┼─────────────┤\n",
            "│ 4   │ Jus Naga    │ 1           │ 20000      │ 20000       │\n",
            "├─────┼─────────────┼─────────────┼────────────┼─────────────┤\n",
            "│ 5   │ Kue         │ 6           │ 20000      │ 120000      │\n",
            "╘═════╧═════════════╧═════════════╧════════════╧═════════════╛\n",
            "Anda telah mengubah item Markisa menjadi 5 pcs\n",
            "╒═════╤═════════════╤═════════════╤════════════╤═════════════╕\n",
            "│ No. │ Nama Item   │ Jumlah Item │ Harga/Item │ Total Harga │\n",
            "├─────┼─────────────┼─────────────┼────────────┼─────────────┤\n",
            "│ 1   │ Ayam Goreng │ 2           │ 20000      │ 40000       │\n",
            "├─────┼─────────────┼─────────────┼────────────┼─────────────┤\n",
            "│ 2   │ Pasta Gigi  │ 3           │ 15000      │ 45000       │\n",
            "├─────┼─────────────┼─────────────┼────────────┼─────────────┤\n",
            "│ 3   │ Markisa     │ 5           │ 15000      │ 75000       │\n",
            "├─────┼─────────────┼─────────────┼────────────┼─────────────┤\n",
            "│ 4   │ Jus Naga    │ 1           │ 20000      │ 20000       │\n",
            "├─────┼─────────────┼─────────────┼────────────┼─────────────┤\n",
            "│ 5   │ Kue         │ 6           │ 20000      │ 120000      │\n",
            "╘═════╧═════════════╧═════════════╧════════════╧═════════════╛\n",
            "Anda telah mengubah item Markisa menjadi Rp 15000,-\n"
          ]
        }
      ],
      "source": [
        "# mengatasi kesalahan input dengan update pesanan\n",
        "trnsct_123.update_item_name(\"Bolu\", \"Kue\")      # update nama item\n",
        "trnsct_123.update_item_qty(\"Markisa\", 5)        # update jumlah item\n",
        "trnsct_123.update_item_price(\"Markisa\", 15000)  # update harga item"
      ]
    },
    {
      "cell_type": "markdown",
      "source": [
        "### TEST CASE 3 - Customer ingin membatalkan pesanan:\n",
        "\n",
        "Jika hal ini terjadi, customer dapat melakukan hal-hal berikut:\n",
        "*   Menghapus item yang ingin dihapus saja\n",
        "*   Menghapus seluruh item atau melakukan reset pesanan"
      ],
      "metadata": {
        "id": "IyLgWCXlvnZ7"
      }
    },
    {
      "cell_type": "code",
      "execution_count": 11,
      "metadata": {
        "id": "aprTTCYpRmSj",
        "colab": {
          "base_uri": "https://localhost:8080/"
        },
        "outputId": "1b55fd2d-c6a7-4060-f560-cb473e06cf76"
      },
      "outputs": [
        {
          "output_type": "stream",
          "name": "stdout",
          "text": [
            "Anda berhasil menghapus pesanan Pasta Gigi\n",
            "\n"
          ]
        }
      ],
      "source": [
        "# mengatasi kesalahan input dengan menghapus per item\n",
        "trnsct_123.delete_item(\"Pasta Gigi\")"
      ]
    },
    {
      "cell_type": "code",
      "execution_count": 12,
      "metadata": {
        "colab": {
          "base_uri": "https://localhost:8080/"
        },
        "id": "NNYn6qBkRqnH",
        "outputId": "266d5c54-5296-4427-9c05-9aabb1f82be2"
      },
      "outputs": [
        {
          "output_type": "stream",
          "name": "stdout",
          "text": [
            "Semua item berhasil dihapus. Sekarang, Anda tidak memiliki daftar pesanan\n"
          ]
        }
      ],
      "source": [
        "# mengatasi kesalahan input atau membatalkan pesanan dengan menghapus seluruh item\n",
        "trnsct_123.reset_transaction()"
      ]
    },
    {
      "cell_type": "code",
      "source": [
        "trnsct_123.show_orders()"
      ],
      "metadata": {
        "colab": {
          "base_uri": "https://localhost:8080/"
        },
        "id": "eY8uNqtqzCDa",
        "outputId": "1b67ea2d-348c-4265-c350-1e6d3bdc7e24"
      },
      "execution_count": 13,
      "outputs": [
        {
          "output_type": "stream",
          "name": "stdout",
          "text": [
            "╒═════╤═══════════╤═════════════╤════════════╤═════════════╕\n",
            "│ No. │ Nama Item │ Jumlah Item │ Harga/Item │ Total Harga │\n",
            "╘═════╧═══════════╧═════════════╧════════════╧═════════════╛\n"
          ]
        }
      ]
    },
    {
      "cell_type": "markdown",
      "source": [
        "### TEST CASE 4 - Customer ingin mengecek data pemesanan:\n",
        "Karena data sebelumnya direset, maka perlu ditambahkan terlebih dahulu item yang ingin dibeli untuk dapat melakukan cek pesanan\n"
      ],
      "metadata": {
        "id": "cUJPLTfHv7wN"
      }
    },
    {
      "cell_type": "code",
      "source": [
        "trnsct_123.add_item(\"Ayam Goreng\", 2, 20000)\n",
        "trnsct_123.add_item(\"Pasta Gigi\", 3, 15000)\n",
        "trnsct_123.add_item(\"Markisa\", 2, 10000)\n",
        "trnsct_123.add_item(\"Bolu\", 6, 20000)\n",
        "trnsct_123.add_item(\"Jus Naga\", 1, 20000)"
      ],
      "metadata": {
        "colab": {
          "base_uri": "https://localhost:8080/"
        },
        "id": "bdDqeXf0zdua",
        "outputId": "9e97e8eb-4dc6-4945-9ae0-9bbe05c35e18"
      },
      "execution_count": 14,
      "outputs": [
        {
          "output_type": "stream",
          "name": "stdout",
          "text": [
            "Anda berhasil menambahkan item Ayam Goreng, 2 pcs dengan harga per item 20000\n",
            "Anda berhasil menambahkan item Pasta Gigi, 3 pcs dengan harga per item 15000\n",
            "Anda berhasil menambahkan item Markisa, 2 pcs dengan harga per item 10000\n",
            "Anda berhasil menambahkan item Bolu, 6 pcs dengan harga per item 20000\n",
            "Anda berhasil menambahkan item Jus Naga, 1 pcs dengan harga per item 20000\n"
          ]
        }
      ]
    },
    {
      "cell_type": "code",
      "source": [
        "trnsct_123.show_orders()"
      ],
      "metadata": {
        "colab": {
          "base_uri": "https://localhost:8080/"
        },
        "id": "mMAgVjIVzmvm",
        "outputId": "d115a855-4216-439d-e582-42caa79a0292"
      },
      "execution_count": 15,
      "outputs": [
        {
          "output_type": "stream",
          "name": "stdout",
          "text": [
            "╒═════╤═════════════╤═════════════╤════════════╤═════════════╕\n",
            "│ No. │ Nama Item   │ Jumlah Item │ Harga/Item │ Total Harga │\n",
            "├─────┼─────────────┼─────────────┼────────────┼─────────────┤\n",
            "│ 1   │ Ayam Goreng │ 2           │ 20000      │ 40000       │\n",
            "├─────┼─────────────┼─────────────┼────────────┼─────────────┤\n",
            "│ 2   │ Pasta Gigi  │ 3           │ 15000      │ 45000       │\n",
            "├─────┼─────────────┼─────────────┼────────────┼─────────────┤\n",
            "│ 3   │ Markisa     │ 2           │ 10000      │ 20000       │\n",
            "├─────┼─────────────┼─────────────┼────────────┼─────────────┤\n",
            "│ 4   │ Bolu        │ 6           │ 20000      │ 120000      │\n",
            "├─────┼─────────────┼─────────────┼────────────┼─────────────┤\n",
            "│ 5   │ Jus Naga    │ 1           │ 20000      │ 20000       │\n",
            "╘═════╧═════════════╧═════════════╧════════════╧═════════════╛\n"
          ]
        }
      ]
    },
    {
      "cell_type": "code",
      "execution_count": 16,
      "metadata": {
        "colab": {
          "base_uri": "https://localhost:8080/"
        },
        "id": "jLY01vW8RtRQ",
        "outputId": "e49754ff-888e-4858-8a12-c0ee6493f6a8"
      },
      "outputs": [
        {
          "output_type": "stream",
          "name": "stdout",
          "text": [
            "Pemesanan sudah benar\n"
          ]
        }
      ],
      "source": [
        "trnsct_123.check_order()"
      ]
    },
    {
      "cell_type": "markdown",
      "source": [
        "TEST CASE 5 - Custmer melakukan pembelian dan ingin mengetahui total yang harus dibayar"
      ],
      "metadata": {
        "id": "Hse6ghLywVFj"
      }
    },
    {
      "cell_type": "code",
      "execution_count": 17,
      "metadata": {
        "colab": {
          "base_uri": "https://localhost:8080/"
        },
        "id": "JW8eMqHBSYBA",
        "outputId": "9a845d59-14b2-4112-f368-7de791935ce6"
      },
      "outputs": [
        {
          "output_type": "stream",
          "name": "stdout",
          "text": [
            "Selamat! Anda mendapat diskon 5%\n",
            "Total belanja Anda menjadi Rp.232750.00\n"
          ]
        }
      ],
      "source": [
        "trnsct_123.total_price()"
      ]
    }
  ],
  "metadata": {
    "colab": {
      "provenance": []
    },
    "kernelspec": {
      "display_name": "Python 3",
      "name": "python3"
    },
    "language_info": {
      "name": "python"
    }
  },
  "nbformat": 4,
  "nbformat_minor": 0
}